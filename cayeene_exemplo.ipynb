{
 "cells": [
  {
   "cell_type": "code",
   "execution_count": 3,
   "metadata": {},
   "outputs": [
    {
     "data": {
      "text/plain": [
       "0"
      ]
     },
     "execution_count": 3,
     "metadata": {},
     "output_type": "execute_result"
    }
   ],
   "source": [
    "# https://mydevices.com/cayenne/docs_stage/cayenne-mqtt-api/#cayenne-mqtt-api-manually-publishing-subscribing\n",
    "# Manually Publishing / Subscribing\n",
    "\n",
    "# Biblioteca para o protocolo MQTT\n",
    "import paho.mqtt.client as mqtt\n",
    "import time\n",
    "\n",
    "# Variáveis para acesso ao servidor\n",
    "user = '6c405270-0734-11ea-8221-599f77add412'\n",
    "password = 'dfaa41fa875f7fc39ebc7cfd67f2c21c309b55f9'\n",
    "client_id = '1d577cd0-0737-11ea-ba7c-716e7f5ba423'\n",
    "server = 'mqtt.mydevices.com'\n",
    "port = 1883\n",
    "\n",
    "# Cria o objeto para acessar o servidor (Client ID)\n",
    "client = mqtt.Client(client_id)\n",
    "\n",
    "# Informa ao objeto o usuário e senha para acesso ao servidor (MQTT username, MQTT password)\n",
    "client.username_pw_set(user, password)\n",
    "\n",
    "# Estabelece a conexão com o servidor (MQTT Server, MQTT Port)\n",
    "client.connect(server, port)"
   ]
  },
  {
   "cell_type": "code",
   "execution_count": 4,
   "metadata": {},
   "outputs": [],
   "source": [
    "# MQTT Server, MQTT Port,\n",
    "client.connect(server, port)\n",
    "\n",
    "# Envia a informação 123.4 para o canal 0\n",
    "client.publish('v1/'+user+'/things/'+client_id+'/data/0', 123.4) # posta no canal 0\n",
    "time.sleep(5)"
   ]
  },
  {
   "cell_type": "code",
   "execution_count": 5,
   "metadata": {},
   "outputs": [],
   "source": [
    "from random import randrange\n",
    "def umidade():\n",
    "    return randrange(20, 60)"
   ]
  },
  {
   "cell_type": "code",
   "execution_count": 6,
   "metadata": {},
   "outputs": [],
   "source": [
    "def mensagem(client, userdata, msg): # callback\n",
    "    t = msg.topic.split('/')\n",
    "    v = msg.payload.decode().split(',')\n",
    "    print(t)\n",
    "    print(v)\n",
    "    client.publish('v1/'+user+'/things/'+client_id+'/response', 'ok,'+v[0]) # posta no canal 0"
   ]
  },
  {
   "cell_type": "code",
   "execution_count": 7,
   "metadata": {},
   "outputs": [],
   "source": [
    "client.on_message = mensagem #callback\n",
    "client.subscribe('v1/'+ user +'/things/'+client_id+'/cmd/2')\n",
    "client.loop_start()   # tread de monitorar"
   ]
  },
  {
   "cell_type": "code",
   "execution_count": null,
   "metadata": {},
   "outputs": [],
   "source": [
    "# MQTT Server, MQTT Port,\n",
    "client.connect(server, port)\n",
    "\n",
    "\n",
    "client.on_message = mensagem #callback\n",
    "client.loop_start()   # tread de monitorar\n",
    "\n",
    "while True:\n",
    "    umid = umidade() \n",
    "    client.publish('v1/'+user+'/things/'+client_id+'/data/1', umid) # posta no canal 0\n",
    "\n",
    "    time.sleep(10)\n",
    "\n"
   ]
  },
  {
   "cell_type": "code",
   "execution_count": null,
   "metadata": {},
   "outputs": [],
   "source": []
  }
 ],
 "metadata": {
  "kernelspec": {
   "display_name": "Python 3",
   "language": "python",
   "name": "python3"
  },
  "language_info": {
   "codemirror_mode": {
    "name": "ipython",
    "version": 3
   },
   "file_extension": ".py",
   "mimetype": "text/x-python",
   "name": "python",
   "nbconvert_exporter": "python",
   "pygments_lexer": "ipython3",
   "version": "3.7.3"
  }
 },
 "nbformat": 4,
 "nbformat_minor": 4
}
